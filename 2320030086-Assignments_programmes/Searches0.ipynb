{
  "nbformat": 4,
  "nbformat_minor": 0,
  "metadata": {
    "colab": {
      "provenance": []
    },
    "kernelspec": {
      "name": "python3",
      "display_name": "Python 3"
    },
    "language_info": {
      "name": "python"
    }
  },
  "cells": [
    {
      "cell_type": "code",
      "source": [
        "A* Search algorithm"
      ],
      "metadata": {
        "id": "Yr8g_g3ICH4P"
      },
      "execution_count": null,
      "outputs": []
    },
    {
      "cell_type": "markdown",
      "source": [],
      "metadata": {
        "id": "E9d3LKW7CF1G"
      }
    },
    {
      "cell_type": "code",
      "execution_count": 3,
      "metadata": {
        "id": "ZOOMRsC-B5L4"
      },
      "outputs": [],
      "source": [
        "import heapq\n",
        "\n",
        "# Heuristic for A* Search\n",
        "def heuristic(node, goal):\n",
        "    return 1\n",
        "\n",
        "# A* Search algorithm\n",
        "def a_star(graph, start, goal):\n",
        "    priority_queue = [(0, start)]\n",
        "    visited = set()\n",
        "\n",
        "    while priority_queue:\n",
        "        _, current = heapq.heappop(priority_queue)\n",
        "\n",
        "        if current == goal:\n",
        "            print(f\"Goal '{goal}' reached!\")\n",
        "            return\n",
        "\n",
        "        if current not in visited:\n",
        "            print(current)\n",
        "            visited.add(current)\n",
        "\n",
        "            for neighbor in graph[current]:\n",
        "                heapq.heappush(priority_queue, (1 + heuristic(neighbor, goal), neighbor))\n"
      ]
    },
    {
      "cell_type": "markdown",
      "source": [
        "BFS"
      ],
      "metadata": {
        "id": "lz8RvQVJCEoW"
      }
    },
    {
      "cell_type": "code",
      "source": [
        "from collections import deque\n",
        "\n",
        "# Breadth-First Search (BFS)\n",
        "def bfs(graph, start):\n",
        "    visited = set()\n",
        "    queue = deque([start])\n",
        "\n",
        "    while queue:\n",
        "        node = queue.popleft()\n",
        "        if node not in visited:\n",
        "            print(node)\n",
        "            visited.add(node)\n",
        "            queue.extend(graph[node])"
      ],
      "metadata": {
        "id": "InxEHRKDCCRP"
      },
      "execution_count": 2,
      "outputs": []
    },
    {
      "cell_type": "markdown",
      "source": [
        "MinMax\n"
      ],
      "metadata": {
        "id": "UsxZhrmMCOLG"
      }
    },
    {
      "cell_type": "code",
      "source": [
        "# Minimax Algorithm\n",
        "def minimax(depth, node_index, is_maximizing_player, values):\n",
        "    if depth == 3:\n",
        "        return values[node_index]\n",
        "\n",
        "    if is_maximizing_player:\n",
        "        best = float('-inf')\n",
        "        for i in range(2):\n",
        "            val = minimax(depth + 1, node_index * 2 + i, False, values)\n",
        "            best = max(best, val)\n",
        "        return best\n",
        "    else:\n",
        "        best = float('inf')\n",
        "        for i in range(2):\n",
        "            val = minimax(depth + 1, node_index * 2 + i, True, values)\n",
        "            best = min(best, val)\n",
        "        return best\n",
        "\n",
        "values = [3, 5, 2, 9, 12, 5, 23, 23]\n"
      ],
      "metadata": {
        "id": "jBGfuNBMCQFn"
      },
      "execution_count": 1,
      "outputs": []
    },
    {
      "cell_type": "markdown",
      "source": [
        "DFS"
      ],
      "metadata": {
        "id": "sfeFlfupCdGm"
      }
    },
    {
      "cell_type": "code",
      "source": [
        "from collections import deque\n",
        "\n",
        "# Depth-First Search (DFS)\n",
        "def dfs(visited, graph, node):\n",
        "    if node not in visited:\n",
        "        print(node)\n",
        "        visited.add(node)\n",
        "        for neighbour in graph[node]:\n",
        "            dfs(visited, graph, neighbour)\n"
      ],
      "metadata": {
        "id": "zutf_THcCevm"
      },
      "execution_count": null,
      "outputs": []
    }
  ]
}