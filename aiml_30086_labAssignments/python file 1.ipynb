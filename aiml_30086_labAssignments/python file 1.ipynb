{
  "nbformat": 4,
  "nbformat_minor": 0,
  "metadata": {
    "colab": {
      "provenance": [],
      "authorship_tag": "ABX9TyOU+EjDeLt/dPM3xWRXzKGw",
      "include_colab_link": true
    },
    "kernelspec": {
      "name": "python3",
      "display_name": "Python 3"
    },
    "language_info": {
      "name": "python"
    }
  },
  "cells": [
    {
      "cell_type": "markdown",
      "metadata": {
        "id": "view-in-github",
        "colab_type": "text"
      },
      "source": [
        "<a href=\"https://colab.research.google.com/github/orangecat2511/2320030241-AIML/blob/main/Lab/python%20file%201.ipynb\" target=\"_parent\"><img src=\"https://colab.research.google.com/assets/colab-badge.svg\" alt=\"Open In Colab\"/></a>"
      ]
    },
    {
      "cell_type": "code",
      "execution_count": null,
      "metadata": {
        "id": "tU4qFUg5uTE3",
        "outputId": "167b86b7-2e34-46a6-a1a2-6edc297a1569",
        "colab": {
          "base_uri": "https://localhost:8080/"
        }
      },
      "outputs": [
        {
          "output_type": "stream",
          "name": "stdout",
          "text": [
            "BFS Path: ['A', 'C', 'F']\n"
          ]
        }
      ],
      "source": [
        "from collections import deque\n",
        "\n",
        "def bfs(start, goal, graph):\n",
        "    queue = deque([start])\n",
        "    visited = set()\n",
        "    parent = {start: None}\n",
        "\n",
        "    while queue:\n",
        "        node = queue.popleft()\n",
        "        if node == goal:\n",
        "            path = []\n",
        "            while node:\n",
        "                path.append(node)\n",
        "                node = parent[node]\n",
        "            return path[::-1]\n",
        "\n",
        "        for neighbor in graph.get(node, []):\n",
        "            if neighbor not in visited:\n",
        "                visited.add(neighbor)\n",
        "                parent[neighbor] = node\n",
        "                queue.append(neighbor)\n",
        "    return None\n",
        "graph = {\n",
        "    'A': ['B', 'C'],\n",
        "    'B': ['D', 'E'],\n",
        "    'C': ['F'],\n",
        "    'D': [],\n",
        "    'E': ['F'],\n",
        "    'F': []\n",
        "}\n",
        "bfs_path = bfs('A', 'F', graph)\n",
        "print(\"BFS Path:\", bfs_path)\n"
      ]
    },
    {
      "cell_type": "code",
      "source": [
        "def dfs(start, goal, graph):\n",
        "    stack = [start]\n",
        "    visited = set()\n",
        "    parent = {start: None}\n",
        "\n",
        "    while stack:\n",
        "        node = stack.pop()\n",
        "        if node == goal:\n",
        "            path = []\n",
        "            while node:\n",
        "                path.append(node)\n",
        "                node = parent[node]\n",
        "            return path[::-1]\n",
        "\n",
        "        if node not in visited:\n",
        "            visited.add(node)\n",
        "            for neighbor in graph.get(node, []):\n",
        "                if neighbor not in visited:\n",
        "                    parent[neighbor] = node\n",
        "                    stack.append(neighbor)\n",
        "    return None\n",
        "graph = {\n",
        "    'A': ['B', 'C'],\n",
        "    'B': ['D', 'E'],\n",
        "    'C': ['F'],\n",
        "    'D': [],\n",
        "    'E': ['F'],\n",
        "    'F': []\n",
        "}\n",
        "dfs_path = dfs('A', 'F', graph)\n",
        "print(\"DFS Path:\", dfs_path)\n"
      ],
      "metadata": {
        "colab": {
          "base_uri": "https://localhost:8080/"
        },
        "id": "ZysJgJof2GO7",
        "outputId": "fd79b8fa-8087-438b-bf41-676b30826bd8"
      },
      "execution_count": null,
      "outputs": [
        {
          "output_type": "stream",
          "name": "stdout",
          "text": [
            "DFS Path: ['A', 'C', 'F']\n"
          ]
        }
      ]
    },
    {
      "cell_type": "code",
      "source": [
        "import heapq\n",
        "\n",
        "def heuristic(node, goal):\n",
        "    return abs(node[0] - goal[0]) + abs(node[1] - goal[1])\n",
        "\n",
        "def a_star(start, goal, graph):\n",
        "    open_set = []\n",
        "    heapq.heappush(open_set, (0 + heuristic(start, goal), 0, start))\n",
        "    came_from = {}\n",
        "    g = {start: 0}\n",
        "    f = {start: heuristic(start, goal)}\n",
        "\n",
        "    while open_set:\n",
        "        _, current_g, current = heapq.heappop(open_set)\n",
        "\n",
        "        if current == goal:\n",
        "            path = []\n",
        "            while current in came_from:\n",
        "                path.append(current)\n",
        "                current = came_from[current]\n",
        "            path.append(start)\n",
        "            return path[::-1]\n",
        "\n",
        "        for neighbor in graph.get(current, []):\n",
        "            tentative_g = g[current] + 1\n",
        "            if neighbor not in g or tentative_g < g[neighbor]:\n",
        "                came_from[neighbor] = current\n",
        "                g[neighbor] = tentative_g\n",
        "                f[neighbor] = tentative_g + heuristic(neighbor, goal)\n",
        "                heapq.heappush(open_set, (f[neighbor], tentative_g, neighbor))\n",
        "    return None\n",
        "graph_with_positions = {\n",
        "    (0, 0): [(1, 0), (0, 1)],\n",
        "    (1, 0): [(2, 0)],\n",
        "    (0, 1): [(1, 1)],\n",
        "    (1, 1): [(2, 1)],\n",
        "    (2, 0): [(3, 0)],\n",
        "    (2, 1): [(3, 1)],\n",
        "    (3, 0): [],\n",
        "    (3, 1): []\n",
        "}\n",
        "start_pos = (0, 0)\n",
        "goal_pos = (3, 1)\n",
        "a_star_path = a_star(start_pos, goal_pos, graph_with_positions)\n",
        "print(\"A* Path:\", a_star_path)\n"
      ],
      "metadata": {
        "colab": {
          "base_uri": "https://localhost:8080/"
        },
        "id": "E1YsWfvQ2J0P",
        "outputId": "82ee9552-cee4-4944-8e19-02892c957a80"
      },
      "execution_count": null,
      "outputs": [
        {
          "output_type": "stream",
          "name": "stdout",
          "text": [
            "A* Path: [(0, 0), (0, 1), (1, 1), (2, 1), (3, 1)]\n"
          ]
        }
      ]
    },
    {
      "cell_type": "code",
      "source": [
        "def hill_climbing(start, goal, graph):\n",
        "    current = start\n",
        "    while current != goal:\n",
        "        neighbors = graph.get(current, [])\n",
        "        if not neighbors:\n",
        "            return None\n",
        "        next_node = min(neighbors, key=lambda x: heuristic(x, goal))\n",
        "        if heuristic(next_node, goal) >= heuristic(current, goal):\n",
        "            return current\n",
        "\n",
        "        current = next_node\n",
        "\n",
        "    return current\n",
        "\n",
        "def heuristic(node, goal):\n",
        "    return abs(node[0] - goal[0]) + abs(node[1] - goal[1])\n",
        "graph_with_positions = {\n",
        "    (0, 0): [(1, 0), (0, 1)],\n",
        "    (1, 0): [(2, 0), (1, 1)],\n",
        "    (0, 1): [(1, 1)],\n",
        "    (1, 1): [(2, 1)],\n",
        "    (2, 0): [(3, 0)],\n",
        "    (2, 1): [(3, 1)],\n",
        "    (3, 0): [(3, 1)],\n",
        "    (3, 1): []\n",
        "}\n",
        "start_pos = (0, 0)\n",
        "goal_pos = (3, 1)\n",
        "hill_climbing_result = hill_climbing(start_pos, goal_pos, graph_with_positions)\n",
        "print(\"Hill Climbing Result:\", hill_climbing_result)\n"
      ],
      "metadata": {
        "colab": {
          "base_uri": "https://localhost:8080/"
        },
        "id": "-bDfuP4U2d8h",
        "outputId": "59afc157-0fee-43a1-8b16-45b4d69aec4b"
      },
      "execution_count": null,
      "outputs": [
        {
          "output_type": "stream",
          "name": "stdout",
          "text": [
            "Hill Climbing Result: (3, 1)\n"
          ]
        }
      ]
    },
    {
      "cell_type": "code",
      "source": [],
      "metadata": {
        "id": "2zv1JpeK2ouq"
      },
      "execution_count": null,
      "outputs": []
    },
    {
      "cell_type": "code",
      "source": [
        "def find_min_max(numbers):\n",
        "    if not numbers:\n",
        "        return None, None\n",
        "\n",
        "    min_val = max_val = numbers[0]\n",
        "\n",
        "    for num in numbers[1:]:\n",
        "        if num < min_val:\n",
        "            min_val = num\n",
        "        if num > max_val:\n",
        "            max_val = num\n",
        "\n",
        "    return min_val, max_val\n",
        "numbers = [3, 1, 4, 1, 5, 9, 2, 6, 5, 3, 5]\n",
        "min_value, max_value = find_min_max(numbers)\n",
        "\n",
        "print(f\"Minimum value: {min_value}\")\n",
        "print(f\"Maximum value: {max_value}\")\n"
      ],
      "metadata": {
        "id": "H3GFTsysKXzd",
        "outputId": "dfb04d5b-c50d-4fed-d7cf-160de05b347d",
        "colab": {
          "base_uri": "https://localhost:8080/"
        }
      },
      "execution_count": null,
      "outputs": [
        {
          "output_type": "stream",
          "name": "stdout",
          "text": [
            "Minimum value: 1\n",
            "Maximum value: 9\n"
          ]
        }
      ]
    }
  ]
}