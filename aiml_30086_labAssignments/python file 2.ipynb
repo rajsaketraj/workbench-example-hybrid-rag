{
  "nbformat": 4,
  "nbformat_minor": 0,
  "metadata": {
    "colab": {
      "provenance": [],
      "authorship_tag": "ABX9TyM/KKlI+RXPQ5NZ+yMrmk9U",
      "include_colab_link": true
    },
    "kernelspec": {
      "name": "python3",
      "display_name": "Python 3"
    },
    "language_info": {
      "name": "python"
    }
  },
  "cells": [
    {
      "cell_type": "markdown",
      "metadata": {
        "id": "view-in-github",
        "colab_type": "text"
      },
      "source": [
        "<a href=\"https://colab.research.google.com/github/orangecat2511/2320030241-AIML/blob/main/Lab/python%20file%202.ipynb\" target=\"_parent\"><img src=\"https://colab.research.google.com/assets/colab-badge.svg\" alt=\"Open In Colab\"/></a>"
      ]
    },
    {
      "cell_type": "code",
      "execution_count": null,
      "metadata": {
        "colab": {
          "base_uri": "https://localhost:8080/"
        },
        "id": "BlOzSy3qwe8G",
        "outputId": "fec7a679-30e5-424a-de8c-bdaf3fb2d549"
      },
      "outputs": [
        {
          "output_type": "stream",
          "name": "stdout",
          "text": [
            "Solution: ['Red', 'Green', 'Blue', 'Red']\n"
          ]
        }
      ],
      "source": [
        "color_names = [\"\", \"Red\", \"Green\", \"Blue\", \"Yellow\", \"Orange\", \"Purple\"]\n",
        "\n",
        "def is_safe(node, color, graph, colors):\n",
        "    for neighbor in graph[node]:\n",
        "        if colors[neighbor] == color:\n",
        "            return False\n",
        "    return True\n",
        "\n",
        "\n",
        "def color_map(graph, num_colors, colors, node=0):\n",
        "    if node == len(graph):\n",
        "        return True\n",
        "    for color in range(1, num_colors + 1):\n",
        "        if is_safe(node, color, graph, colors):\n",
        "            colors[node] = color\n",
        "            if color_map(graph, num_colors, colors, node + 1):\n",
        "                return True\n",
        "            colors[node] = 0\n",
        "\n",
        "    return False\n",
        "\n",
        "\n",
        "def solve_map_coloring(graph, num_colors):\n",
        "    colors = [0] * len(graph)\n",
        "    if color_map(graph, num_colors, colors):\n",
        "        return [color_names[color] for color in colors]\n",
        "    else:\n",
        "        return \"No solution exists.\"\n",
        "\n",
        "if __name__ == \"__main__\":\n",
        "    graph = {\n",
        "        0: [1, 2],\n",
        "        1: [0, 2, 3],\n",
        "        2: [0, 1, 3],\n",
        "        3: [1, 2]\n",
        "    }\n",
        "\n",
        "    num_colors = 3\n",
        "\n",
        "    solution = solve_map_coloring(graph, num_colors)\n",
        "    print(f\"Solution: {solution}\")\n"
      ]
    }
  ]
}